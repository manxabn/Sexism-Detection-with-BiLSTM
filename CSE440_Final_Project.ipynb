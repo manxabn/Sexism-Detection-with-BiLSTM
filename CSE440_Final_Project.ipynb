{
 "cells": [
  {
   "cell_type": "code",
   "execution_count": 1,
   "metadata": {
    "id": "osEl2Z6WcncB"
   },
   "outputs": [],
   "source": [
    "# We have used the glove.6B.300d for our model. The path for this embedding file has to be set on the \n",
    "#‘glove_path’ variable which is below the ‘load_glove_embeddings’ function.\n"
   ]
  },
  {
   "cell_type": "code",
   "execution_count": 1,
   "metadata": {},
   "outputs": [],
   "source": [
    "import numpy as np\n",
    "import pandas as pd\n",
    "import matplotlib.pyplot as plt\n",
    "from sklearn.linear_model import LogisticRegression\n",
    "from tensorflow.keras.preprocessing.text import Tokenizer\n",
    "from tensorflow.keras.preprocessing.sequence import pad_sequences\n",
    "from tensorflow.keras.models import Sequential\n",
    "from tensorflow.keras.layers import LSTM, GRU, Dense, Embedding, Dropout, GlobalAveragePooling1D, Flatten, SpatialDropout1D, Bidirectional\n",
    "from sklearn.model_selection import train_test_split\n",
    "from sklearn.metrics import f1_score"
   ]
  },
  {
   "cell_type": "code",
   "execution_count": 36,
   "metadata": {
    "colab": {
     "base_uri": "https://localhost:8080/"
    },
    "id": "0tVw57X6epG_",
    "outputId": "fe29c6ef-ab8b-4cb4-9d7c-cbcbe09ebbcb"
   },
   "outputs": [
    {
     "data": {
      "text/html": [
       "<div>\n",
       "<style scoped>\n",
       "    .dataframe tbody tr th:only-of-type {\n",
       "        vertical-align: middle;\n",
       "    }\n",
       "\n",
       "    .dataframe tbody tr th {\n",
       "        vertical-align: top;\n",
       "    }\n",
       "\n",
       "    .dataframe thead th {\n",
       "        text-align: right;\n",
       "    }\n",
       "</style>\n",
       "<table border=\"1\" class=\"dataframe\">\n",
       "  <thead>\n",
       "    <tr style=\"text-align: right;\">\n",
       "      <th></th>\n",
       "      <th>rewire_id</th>\n",
       "      <th>text</th>\n",
       "      <th>label_sexist</th>\n",
       "      <th>label_category</th>\n",
       "      <th>label_vector</th>\n",
       "    </tr>\n",
       "  </thead>\n",
       "  <tbody>\n",
       "    <tr>\n",
       "      <th>0</th>\n",
       "      <td>sexism2022_english-7358</td>\n",
       "      <td>Damn, this writing was pretty chaotic</td>\n",
       "      <td>not sexist</td>\n",
       "      <td>none</td>\n",
       "      <td>none</td>\n",
       "    </tr>\n",
       "    <tr>\n",
       "      <th>1</th>\n",
       "      <td>sexism2022_english-2367</td>\n",
       "      <td>Yeah, and apparently a bunch of misogynistic v...</td>\n",
       "      <td>not sexist</td>\n",
       "      <td>none</td>\n",
       "      <td>none</td>\n",
       "    </tr>\n",
       "    <tr>\n",
       "      <th>2</th>\n",
       "      <td>sexism2022_english-3073</td>\n",
       "      <td>How the FUCK is this woman still an MP!!!???</td>\n",
       "      <td>not sexist</td>\n",
       "      <td>none</td>\n",
       "      <td>none</td>\n",
       "    </tr>\n",
       "    <tr>\n",
       "      <th>3</th>\n",
       "      <td>sexism2022_english-14895</td>\n",
       "      <td>Understand. Know you're right. At same time I ...</td>\n",
       "      <td>not sexist</td>\n",
       "      <td>none</td>\n",
       "      <td>none</td>\n",
       "    </tr>\n",
       "    <tr>\n",
       "      <th>4</th>\n",
       "      <td>sexism2022_english-4118</td>\n",
       "      <td>Surprized they didn't stop and rape some women</td>\n",
       "      <td>not sexist</td>\n",
       "      <td>none</td>\n",
       "      <td>none</td>\n",
       "    </tr>\n",
       "  </tbody>\n",
       "</table>\n",
       "</div>"
      ],
      "text/plain": [
       "                  rewire_id  \\\n",
       "0   sexism2022_english-7358   \n",
       "1   sexism2022_english-2367   \n",
       "2   sexism2022_english-3073   \n",
       "3  sexism2022_english-14895   \n",
       "4   sexism2022_english-4118   \n",
       "\n",
       "                                                text label_sexist  \\\n",
       "0              Damn, this writing was pretty chaotic   not sexist   \n",
       "1  Yeah, and apparently a bunch of misogynistic v...   not sexist   \n",
       "2       How the FUCK is this woman still an MP!!!???   not sexist   \n",
       "3  Understand. Know you're right. At same time I ...   not sexist   \n",
       "4     Surprized they didn't stop and rape some women   not sexist   \n",
       "\n",
       "  label_category label_vector  \n",
       "0           none         none  \n",
       "1           none         none  \n",
       "2           none         none  \n",
       "3           none         none  \n",
       "4           none         none  "
      ]
     },
     "execution_count": 36,
     "metadata": {},
     "output_type": "execute_result"
    }
   ],
   "source": [
    "trainSet = pd.read_csv('train_all_tasks.csv')\n",
    "\n",
    "#trainSet = pd.read_csv('Desktop\\\\CSE440 Project\\\\train_all_tasks.csv') #if opened after uploading in jupyter notebook and \n",
    "                                                                        #located the submission folder in desktop homepage\n",
    "trainSet.head()\n",
    "\n"
   ]
  },
  {
   "cell_type": "code",
   "execution_count": 4,
   "metadata": {
    "id": "ZDV-lxNFepJw"
   },
   "outputs": [],
   "source": [
    "text = trainSet['text']\n",
    "trainSet['label_sexist'] = trainSet['label_sexist'].map({'not sexist': 0, 'sexist': 1})\n",
    "labels = trainSet['label_sexist']\n",
    "trainSet = trainSet.drop('label_vector', axis=1)"
   ]
  },
  {
   "cell_type": "code",
   "execution_count": null,
   "metadata": {},
   "outputs": [],
   "source": []
  },
  {
   "cell_type": "code",
   "execution_count": 5,
   "metadata": {
    "colab": {
     "base_uri": "https://localhost:8080/"
    },
    "id": "QgLNFIZPepMX",
    "outputId": "f8a56ea1-cb33-4a96-a413-955d95eef451"
   },
   "outputs": [
    {
     "data": {
      "text/plain": [
       "(14000, 4)"
      ]
     },
     "execution_count": 5,
     "metadata": {},
     "output_type": "execute_result"
    }
   ],
   "source": [
    "trainSet.shape"
   ]
  },
  {
   "cell_type": "code",
   "execution_count": 6,
   "metadata": {
    "colab": {
     "base_uri": "https://localhost:8080/"
    },
    "id": "qGImQn6FepO8",
    "outputId": "6b342faf-d688-4cd5-c051-4c7aec911a84"
   },
   "outputs": [
    {
     "name": "stdout",
     "output_type": "stream",
     "text": [
      "0    10602\n",
      "1     3398\n",
      "Name: label_sexist, dtype: int64\n",
      "none                                        10602\n",
      "2. derogation                                1590\n",
      "3. animosity                                 1165\n",
      "4. prejudiced discussions                     333\n",
      "1. threats, plans to harm and incitement      310\n",
      "Name: label_category, dtype: int64\n",
      "0        0\n",
      "1        0\n",
      "2        0\n",
      "3        0\n",
      "4        0\n",
      "        ..\n",
      "13995    1\n",
      "13996    0\n",
      "13997    0\n",
      "13998    0\n",
      "13999    0\n",
      "Name: label_sexist, Length: 14000, dtype: int64\n"
     ]
    }
   ],
   "source": [
    "print(trainSet['label_sexist'].value_counts())\n",
    "print(trainSet['label_category'].value_counts())\n",
    "print(labels)"
   ]
  },
  {
   "cell_type": "code",
   "execution_count": 7,
   "metadata": {
    "colab": {
     "base_uri": "https://localhost:8080/"
    },
    "id": "xRn1eYUmPvCn",
    "outputId": "74f4cede-c4b7-4463-874f-76c660414482"
   },
   "outputs": [
    {
     "name": "stdout",
     "output_type": "stream",
     "text": [
      "Maximum word length: 55\n"
     ]
    }
   ],
   "source": [
    "trainSet['word_length'] = trainSet['text'].apply(lambda x: len(x.split()))\n",
    "max_word_length = trainSet['word_length'].max()\n",
    "print(\"Maximum word length:\", max_word_length)"
   ]
  },
  {
   "cell_type": "code",
   "execution_count": 8,
   "metadata": {
    "colab": {
     "base_uri": "https://localhost:8080/"
    },
    "id": "EpqVVij2N5xV",
    "outputId": "c0005efa-ac28-44cb-d29b-e92773ffe6c3"
   },
   "outputs": [
    {
     "name": "stdout",
     "output_type": "stream",
     "text": [
      "Training data shape: (11200,) (11200,)\n",
      "Validation data shape: (1400,) (1400,)\n",
      "Test data shape: (1400,) (1400,)\n"
     ]
    }
   ],
   "source": [
    "from sklearn.model_selection import train_test_split\n",
    "\n",
    "# Splitting the data into training, validation, and test sets\n",
    "X_train, X_val_test, y_train, y_val_test = train_test_split(text, labels, test_size=0.2, random_state=42)\n",
    "X_test, X_val, y_test, y_val = train_test_split(X_val_test, y_val_test, test_size=0.5, random_state=42)\n",
    "\n",
    "\n",
    "print(\"Training data shape:\", X_train.shape, y_train.shape)\n",
    "print(\"Validation data shape:\", X_val.shape, y_val.shape)\n",
    "print(\"Test data shape:\", X_test.shape, y_test.shape)"
   ]
  },
  {
   "cell_type": "code",
   "execution_count": null,
   "metadata": {
    "id": "hCM6d95hT3dj"
   },
   "outputs": [],
   "source": []
  },
  {
   "cell_type": "code",
   "execution_count": 9,
   "metadata": {
    "id": "Ep4eS13IRm7s"
   },
   "outputs": [
    {
     "name": "stdout",
     "output_type": "stream",
     "text": [
      "5000\n"
     ]
    }
   ],
   "source": [
    "# Defining pre-processing parameters\n",
    "max_len = 100\n",
    "trunc_type = 'post'\n",
    "padding_type = 'post'\n",
    "oov_tok = '<OOV>' # out of vocabulary token\n",
    "vocab_size = 5000\n",
    "print(vocab_size)\n"
   ]
  },
  {
   "cell_type": "code",
   "execution_count": 10,
   "metadata": {
    "id": "LHK_1wYPN5z7"
   },
   "outputs": [],
   "source": [
    "tokenizer = Tokenizer(num_words = vocab_size,\n",
    "                      char_level = False,\n",
    "                      oov_token = oov_tok)\n",
    "tokenizer.fit_on_texts(X_train)\n",
    "\n"
   ]
  },
  {
   "cell_type": "code",
   "execution_count": 11,
   "metadata": {
    "colab": {
     "base_uri": "https://localhost:8080/"
    },
    "id": "y0I4LyVbSZYC",
    "outputId": "bf7aec77-f616-4dff-c14d-3fd92d083628"
   },
   "outputs": [
    {
     "data": {
      "text/plain": [
       "20099"
      ]
     },
     "execution_count": 11,
     "metadata": {},
     "output_type": "execute_result"
    }
   ],
   "source": [
    "word_index = tokenizer.word_index\n",
    "total_words = len(word_index)\n",
    "total_words"
   ]
  },
  {
   "cell_type": "code",
   "execution_count": null,
   "metadata": {
    "id": "0vmytkrtV9dY"
   },
   "outputs": [],
   "source": []
  },
  {
   "cell_type": "code",
   "execution_count": 12,
   "metadata": {
    "colab": {
     "base_uri": "https://localhost:8080/"
    },
    "id": "BuD4-TVDSZbs",
    "outputId": "dfc1c5cd-f881-4d9d-de7d-a1dc60b931c8"
   },
   "outputs": [
    {
     "name": "stdout",
     "output_type": "stream",
     "text": [
      "How the FUCK is this woman still an MP!!!???\n",
      "[117, 6, 2077, 28, 3, 720, 108, 3694, 261, 7, 136, 1945, 32, 993, 35, 7, 17, 1, 4, 349, 488, 63, 141, 256, 3, 140, 807, 9, 82, 12, 19, 1712]\n",
      "100\n"
     ]
    }
   ],
   "source": [
    "sequences = tokenizer.texts_to_sequences(X_train)\n",
    "data_padded_train = pad_sequences(sequences, maxlen=max_len, padding = padding_type, truncating = trunc_type)\n",
    "\n",
    "print(text[2])\n",
    "print(sequences[2])\n",
    "print(len(data_padded_train[2]))"
   ]
  },
  {
   "cell_type": "code",
   "execution_count": 13,
   "metadata": {
    "id": "2zIX6WzqXLzr"
   },
   "outputs": [],
   "source": [
    "\n",
    "sequences2 = tokenizer.texts_to_sequences(X_val)\n",
    "data_padded_val = pad_sequences(sequences2,\n",
    "                               maxlen = max_len,\n",
    "                               padding = padding_type,\n",
    "                               truncating = trunc_type)\n",
    "\n",
    "sequences3 = tokenizer.texts_to_sequences(X_test)\n",
    "data_padded_test = pad_sequences(sequences3,\n",
    "                               maxlen = max_len,\n",
    "                               padding = padding_type,\n",
    "                               truncating = trunc_type)"
   ]
  },
  {
   "cell_type": "code",
   "execution_count": 14,
   "metadata": {
    "colab": {
     "base_uri": "https://localhost:8080/"
    },
    "id": "f4V5MFq2N53T",
    "outputId": "6ad81c62-8a64-43fe-f99b-2c0383608133"
   },
   "outputs": [
    {
     "name": "stdout",
     "output_type": "stream",
     "text": [
      "Shape of training tensor:  (11200, 100)\n",
      "Shape of validation tensor:  (1400, 100)\n",
      "Shape of testing tensor:  (1400, 100)\n"
     ]
    }
   ],
   "source": [
    "print('Shape of training tensor: ', data_padded_train.shape)\n",
    "print('Shape of validation tensor: ', data_padded_val.shape)\n",
    "print('Shape of testing tensor: ', data_padded_test.shape)"
   ]
  },
  {
   "cell_type": "code",
   "execution_count": 15,
   "metadata": {
    "id": "H8tnoYVMepRj"
   },
   "outputs": [],
   "source": [
    "# Load GloVe embeddings\n",
    "def load_glove_embeddings(path):\n",
    "    embeddings_index = {}\n",
    "    with open(path, 'r', encoding='utf-8', errors='replace') as f:\n",
    "        for line in f:\n",
    "            values = line.split()\n",
    "            word = values[0]\n",
    "            coefs = np.asarray(values[1:], dtype='float32')\n",
    "            embeddings_index[word] = coefs\n",
    "    return embeddings_index\n",
    "\n",
    "glove_path = 'E:/8th semester/CSE440/New folder/glove.6B/glove.6B.300d.txt' #paste the embedding file path here\n",
    "glove_embeddings = load_glove_embeddings(glove_path)\n"
   ]
  },
  {
   "cell_type": "code",
   "execution_count": null,
   "metadata": {
    "id": "anmBtag-epT5"
   },
   "outputs": [],
   "source": []
  },
  {
   "cell_type": "code",
   "execution_count": 16,
   "metadata": {
    "colab": {
     "base_uri": "https://localhost:8080/"
    },
    "id": "kqx0UiuPepXO",
    "outputId": "ef9db53e-af07-4e1d-e92f-114f78d5a087"
   },
   "outputs": [],
   "source": [
    "# Prepare GloVe embedding matrix\n",
    "embedding_matrix = np.zeros((len(word_index) + 1, 300))\n",
    "for word, i in word_index.items():\n",
    "    embedding_vector = glove_embeddings.get(word)\n",
    "    if embedding_vector is not None:\n",
    "        embedding_matrix[i] = embedding_vector\n",
    "\n",
    "\n",
    "vocab_size = len(word_index) + 1"
   ]
  },
  {
   "cell_type": "code",
   "execution_count": 17,
   "metadata": {
    "colab": {
     "base_uri": "https://localhost:8080/"
    },
    "id": "J4-zLySa7FyR",
    "outputId": "f2b14d4f-eb1c-4888-f167-f7847f184780"
   },
   "outputs": [
    {
     "name": "stdout",
     "output_type": "stream",
     "text": [
      "0    8506\n",
      "1    2694\n",
      "Name: label_sexist, dtype: int64\n"
     ]
    }
   ],
   "source": [
    "print(y_train.value_counts())"
   ]
  },
  {
   "cell_type": "code",
   "execution_count": 18,
   "metadata": {
    "id": "lhCmEDHJ_sJy"
   },
   "outputs": [],
   "source": [
    "from tensorflow.keras.callbacks import EarlyStopping\n",
    "\n",
    "early_stopping = EarlyStopping(monitor='val_loss', patience=2, restore_best_weights=True)"
   ]
  },
  {
   "cell_type": "code",
   "execution_count": 19,
   "metadata": {
    "colab": {
     "base_uri": "https://localhost:8080/"
    },
    "id": "mOqZbLJTjdeC",
    "outputId": "12993c3f-df2c-4f8b-85e3-6e7cbae65bf2"
   },
   "outputs": [
    {
     "name": "stdout",
     "output_type": "stream",
     "text": [
      "Model: \"sequential\"\n",
      "_________________________________________________________________\n",
      " Layer (type)                Output Shape              Param #   \n",
      "=================================================================\n",
      " embedding (Embedding)       (None, 100, 300)          6030000   \n",
      "                                                                 \n",
      " dense (Dense)               (None, 100, 24)           7224      \n",
      "                                                                 \n",
      " dropout (Dropout)           (None, 100, 24)           0         \n",
      "                                                                 \n",
      " dense_1 (Dense)             (None, 100, 1)            25        \n",
      "                                                                 \n",
      "=================================================================\n",
      "Total params: 6,037,249\n",
      "Trainable params: 7,249\n",
      "Non-trainable params: 6,030,000\n",
      "_________________________________________________________________\n"
     ]
    }
   ],
   "source": [
    "# model with dense layers\n",
    "\n",
    "embedding_dim = 300\n",
    "vocab_size = len(word_index) + 1\n",
    "drop_val = 0.2\n",
    "\n",
    "model2 = Sequential()\n",
    "model2.add(Embedding(vocab_size,\n",
    "                     embedding_dim,\n",
    "                     weights=[embedding_matrix],\n",
    "                     input_length=100,\n",
    "                     trainable= False))\n",
    "\n",
    "model2.add(Dense(24, activation='relu'))\n",
    "model2.add(Dropout(drop_val))\n",
    "model2.add(Dense(1, activation='sigmoid'))\n",
    "\n",
    "model2.compile(optimizer='adam',\n",
    "               loss='binary_crossentropy',\n",
    "               metrics=['accuracy'])\n",
    "model2.summary()"
   ]
  },
  {
   "cell_type": "code",
   "execution_count": 20,
   "metadata": {
    "id": "T5J3-L0Ejdhg"
   },
   "outputs": [],
   "source": [
    "\n",
    "import matplotlib.pyplot as plt\n",
    "plt.style.use('ggplot')\n",
    "\n",
    "def plot_history(history):\n",
    "    acc = history.history['accuracy']\n",
    "    val_acc = history.history['val_accuracy']\n",
    "    loss = history.history['loss']\n",
    "    val_loss = history.history['val_loss']\n",
    "    x = range(1, len(acc) + 1)\n",
    "\n",
    "    plt.figure(figsize=(12, 5))\n",
    "    plt.subplot(1, 2, 1)\n",
    "    plt.plot(x, acc, 'b', label='Training acc')\n",
    "    plt.plot(x, val_acc, 'r', label='Validation acc')\n",
    "    plt.title('Training and validation accuracy')\n",
    "    plt.legend()\n",
    "    plt.subplot(1, 2, 2)\n",
    "    plt.plot(x, loss, 'b', label='Training loss')\n",
    "    plt.plot(x, val_loss, 'r', label='Validation loss')\n",
    "    plt.title('Training and validation loss')\n",
    "    plt.legend()"
   ]
  },
  {
   "cell_type": "code",
   "execution_count": 21,
   "metadata": {
    "colab": {
     "base_uri": "https://localhost:8080/",
     "height": 712
    },
    "id": "je-LTWAJjdsD",
    "outputId": "3ac6c5bf-b629-4b60-93ea-be08ef1cbfc3"
   },
   "outputs": [
    {
     "name": "stdout",
     "output_type": "stream",
     "text": [
      "Epoch 1/20\n",
      "350/350 [==============================] - 4s 8ms/step - loss: 0.5779 - accuracy: 0.7591 - val_loss: 0.5647 - val_accuracy: 0.7478\n",
      "Epoch 2/20\n",
      "350/350 [==============================] - 2s 7ms/step - loss: 0.5526 - accuracy: 0.7601 - val_loss: 0.5644 - val_accuracy: 0.7479\n",
      "Epoch 3/20\n",
      "350/350 [==============================] - 2s 6ms/step - loss: 0.5520 - accuracy: 0.7602 - val_loss: 0.5642 - val_accuracy: 0.7479\n",
      "Epoch 4/20\n",
      "350/350 [==============================] - 2s 6ms/step - loss: 0.5517 - accuracy: 0.7602 - val_loss: 0.5638 - val_accuracy: 0.7479\n",
      "Epoch 5/20\n",
      "350/350 [==============================] - 2s 6ms/step - loss: 0.5518 - accuracy: 0.7603 - val_loss: 0.5643 - val_accuracy: 0.7479\n",
      "Epoch 6/20\n",
      "350/350 [==============================] - 2s 7ms/step - loss: 0.5512 - accuracy: 0.7603 - val_loss: 0.5652 - val_accuracy: 0.7480\n",
      "Training Accuracy: 0.7603\n",
      "Testing Accuracy:  0.7507\n"
     ]
    },
    {
     "data": {
      "image/png": "[encoded data removed]",
      "text/plain": [
       "<Figure size 864x360 with 2 Axes>"
      ]
     },
     "metadata": {},
     "output_type": "display_data"
    }
   ],
   "source": [
    "# Train the shallow model\n",
    "history = model2.fit(data_padded_train, y_train, epochs=20, validation_data=(data_padded_val, y_val), callbacks=[early_stopping])\n",
    "\n",
    "\n",
    "loss2,accuracy2 = model2.evaluate(data_padded_train, y_train, verbose = False)\n",
    "print(\"Training Accuracy: {:.4f}\".format(accuracy2))\n",
    "loss2,accuracy2 = model2.evaluate(data_padded_test, y_test, verbose=False)\n",
    "print(\"Testing Accuracy:  {:.4f}\".format(accuracy2))\n",
    "\n",
    "\n",
    "plot_history(history)"
   ]
  },
  {
   "cell_type": "code",
   "execution_count": 22,
   "metadata": {
    "colab": {
     "base_uri": "https://localhost:8080/"
    },
    "id": "yuCtgUXVjduk",
    "outputId": "d03aeee9-bf6d-4df8-986f-3098169c6334"
   },
   "outputs": [
    {
     "name": "stdout",
     "output_type": "stream",
     "text": [
      "Model: \"sequential_1\"\n",
      "_________________________________________________________________\n",
      " Layer (type)                Output Shape              Param #   \n",
      "=================================================================\n",
      " embedding_1 (Embedding)     (None, 100, 300)          6030000   \n",
      "                                                                 \n",
      " lstm (LSTM)                 (None, 128)               219648    \n",
      "                                                                 \n",
      " dropout_1 (Dropout)         (None, 128)               0         \n",
      "                                                                 \n",
      " dense_2 (Dense)             (None, 1)                 129       \n",
      "                                                                 \n",
      "=================================================================\n",
      "Total params: 6,249,777\n",
      "Trainable params: 6,249,777\n",
      "Non-trainable params: 0\n",
      "_________________________________________________________________\n"
     ]
    }
   ],
   "source": [
    "# LSTM model\n",
    "model3 = Sequential()\n",
    "model3.add(Embedding(len(word_index) + 1, 300, weights=[embedding_matrix], input_length=100, trainable=True))\n",
    "model3.add(LSTM(128))\n",
    "model3.add(Dropout(0.2))\n",
    "model3.add(Dense(1, activation='sigmoid'))\n",
    "model3.compile(loss='binary_crossentropy', optimizer='adam', metrics=['accuracy'])\n",
    "model3.summary()\n"
   ]
  },
  {
   "cell_type": "code",
   "execution_count": 23,
   "metadata": {
    "colab": {
     "background_save": true,
     "base_uri": "https://localhost:8080/"
    },
    "id": "zPsXPQV_jdx1",
    "outputId": "8da8fc98-22b8-492e-f77a-a77ea7426e71"
   },
   "outputs": [
    {
     "name": "stdout",
     "output_type": "stream",
     "text": [
      "Epoch 1/20\n",
      "350/350 [==============================] - 61s 162ms/step - loss: 0.5573 - accuracy: 0.7593 - val_loss: 0.5717 - val_accuracy: 0.7471\n",
      "Epoch 2/20\n",
      "350/350 [==============================] - 56s 159ms/step - loss: 0.5541 - accuracy: 0.7595 - val_loss: 0.5662 - val_accuracy: 0.7471\n",
      "Epoch 3/20\n",
      "350/350 [==============================] - 55s 159ms/step - loss: 0.5538 - accuracy: 0.7595 - val_loss: 0.5663 - val_accuracy: 0.7471\n",
      "Epoch 4/20\n",
      "350/350 [==============================] - 54s 154ms/step - loss: 0.5537 - accuracy: 0.7595 - val_loss: 0.5662 - val_accuracy: 0.7471\n",
      "Epoch 5/20\n",
      "350/350 [==============================] - 61s 175ms/step - loss: 0.5538 - accuracy: 0.7595 - val_loss: 0.5667 - val_accuracy: 0.7471\n",
      "Epoch 6/20\n",
      "350/350 [==============================] - 55s 158ms/step - loss: 0.5532 - accuracy: 0.7595 - val_loss: 0.5658 - val_accuracy: 0.7471\n",
      "Epoch 7/20\n",
      "350/350 [==============================] - 58s 167ms/step - loss: 0.5532 - accuracy: 0.7595 - val_loss: 0.5665 - val_accuracy: 0.7471\n",
      "Epoch 8/20\n",
      "350/350 [==============================] - 61s 173ms/step - loss: 0.5533 - accuracy: 0.7595 - val_loss: 0.5655 - val_accuracy: 0.7471\n",
      "Epoch 9/20\n",
      "350/350 [==============================] - 58s 166ms/step - loss: 0.5524 - accuracy: 0.7595 - val_loss: 0.5671 - val_accuracy: 0.7471\n",
      "Epoch 10/20\n",
      "350/350 [==============================] - 55s 156ms/step - loss: 0.5531 - accuracy: 0.7595 - val_loss: 0.5655 - val_accuracy: 0.7471\n",
      "Training Accuracy: 0.7595\n",
      "Testing Accuracy:  0.7500\n"
     ]
    },
    {
     "data": {
      "image/png": "[encoded data removed]",
      "text/plain": [
       "<Figure size 864x360 with 2 Axes>"
      ]
     },
     "metadata": {},
     "output_type": "display_data"
    }
   ],
   "source": [
    "# Train the LSTM model\n",
    "history2 = model3.fit(data_padded_train, y_train, epochs=20, validation_data=(data_padded_val, y_val), callbacks=[early_stopping])\n",
    "\n",
    "loss3,accuracy3 = model3.evaluate(data_padded_train, y_train, verbose = False)\n",
    "print(\"Training Accuracy: {:.4f}\".format(accuracy3))\n",
    "loss3,accuracy3 = model3.evaluate(data_padded_test, y_test, verbose=False)\n",
    "print(\"Testing Accuracy:  {:.4f}\".format(accuracy3))\n",
    "\n",
    "\n",
    "plot_history(history2)"
   ]
  },
  {
   "cell_type": "code",
   "execution_count": 24,
   "metadata": {
    "colab": {
     "background_save": true
    },
    "id": "kwIzuFTWlIqx",
    "outputId": "9487a292-63de-4477-95a1-f4a1bb5b2eec"
   },
   "outputs": [
    {
     "name": "stdout",
     "output_type": "stream",
     "text": [
      "Model: \"sequential_2\"\n",
      "_________________________________________________________________\n",
      " Layer (type)                Output Shape              Param #   \n",
      "=================================================================\n",
      " embedding_2 (Embedding)     (None, 100, 300)          6030000   \n",
      "                                                                 \n",
      " bidirectional (Bidirectiona  (None, 256)              439296    \n",
      " l)                                                              \n",
      "                                                                 \n",
      " dropout_2 (Dropout)         (None, 256)               0         \n",
      "                                                                 \n",
      " dense_3 (Dense)             (None, 1)                 257       \n",
      "                                                                 \n",
      "=================================================================\n",
      "Total params: 6,469,553\n",
      "Trainable params: 6,469,553\n",
      "Non-trainable params: 0\n",
      "_________________________________________________________________\n"
     ]
    }
   ],
   "source": [
    "# Bidirectional LSTM model\n",
    "model4 = Sequential()\n",
    "model4.add(Embedding(len(word_index) + 1, 300, weights=[embedding_matrix], input_length=100, trainable=True))\n",
    "model4.add(Bidirectional(LSTM(128)))\n",
    "model4.add(Dropout(0.2))\n",
    "model4.add(Dense(1, activation='sigmoid'))\n",
    "model4.compile(loss='binary_crossentropy', optimizer='adam', metrics=['accuracy'])\n",
    "model4.summary()"
   ]
  },
  {
   "cell_type": "code",
   "execution_count": 25,
   "metadata": {
    "colab": {
     "background_save": true
    },
    "id": "MD6ulVR_lItK",
    "outputId": "25de6df3-70af-499b-f9b1-f5891a805f09"
   },
   "outputs": [
    {
     "name": "stdout",
     "output_type": "stream",
     "text": [
      "Epoch 1/20\n",
      "350/350 [==============================] - 103s 276ms/step - loss: 0.4725 - accuracy: 0.7958 - val_loss: 0.4525 - val_accuracy: 0.8221\n",
      "Epoch 2/20\n",
      "350/350 [==============================] - 90s 258ms/step - loss: 0.3379 - accuracy: 0.8612 - val_loss: 0.4096 - val_accuracy: 0.8286\n",
      "Epoch 3/20\n",
      "350/350 [==============================] - 93s 265ms/step - loss: 0.2563 - accuracy: 0.8967 - val_loss: 0.4324 - val_accuracy: 0.8264\n",
      "Epoch 4/20\n",
      "350/350 [==============================] - 93s 264ms/step - loss: 0.1959 - accuracy: 0.9256 - val_loss: 0.4840 - val_accuracy: 0.8121\n",
      "Training Accuracy: 0.9041\n",
      "Testing Accuracy:  0.8157\n"
     ]
    },
    {
     "data": {
      "image/png": "[encoded data removed]",
      "text/plain": [
       "<Figure size 864x360 with 2 Axes>"
      ]
     },
     "metadata": {},
     "output_type": "display_data"
    }
   ],
   "source": [
    "history3 = model4.fit(data_padded_train, y_train, epochs=20, validation_data=(data_padded_val, y_val), callbacks=[early_stopping])\n",
    "\n",
    "loss4,accuracy4 = model4.evaluate(data_padded_train, y_train, verbose = False)\n",
    "print(\"Training Accuracy: {:.4f}\".format(accuracy4))\n",
    "loss4,accuracy4 = model4.evaluate(data_padded_test, y_test, verbose=False)\n",
    "print(\"Testing Accuracy:  {:.4f}\".format(accuracy4))\n",
    "\n",
    "\n",
    "plot_history(history3)"
   ]
  },
  {
   "cell_type": "code",
   "execution_count": 26,
   "metadata": {
    "colab": {
     "background_save": true
    },
    "id": "rwGEKpKYlIvr",
    "outputId": "17b80580-00d6-4e53-897b-3f4d155ea4a5"
   },
   "outputs": [
    {
     "name": "stdout",
     "output_type": "stream",
     "text": [
      "44/44 [==============================] - 5s 72ms/step\n",
      "Test Loss: 0.41155895590782166\n",
      "Test Accuracy: 0.8157142996788025\n",
      "\n",
      "Confusion Matrix:\n",
      "[[944 106]\n",
      " [152 198]]\n",
      "\n",
      "Precision: 0.6513157894736842\n",
      "Recall: 0.5657142857142857\n",
      "F1-score: 0.6055045871559632\n",
      "\n",
      "Classification Report:\n",
      "              precision    recall  f1-score   support\n",
      "\n",
      "     class 0       0.86      0.90      0.88      1050\n",
      "     class 1       0.65      0.57      0.61       350\n",
      "\n",
      "    accuracy                           0.82      1400\n",
      "   macro avg       0.76      0.73      0.74      1400\n",
      "weighted avg       0.81      0.82      0.81      1400\n",
      "\n"
     ]
    }
   ],
   "source": [
    "from sklearn.metrics import classification_report, confusion_matrix\n",
    "\n",
    "loss, accuracy = model4.evaluate(data_padded_test, y_test, verbose=0)\n",
    "\n",
    "y_pred = np.round(model4.predict(data_padded_test)).astype(int)\n",
    "\n",
    "conf_matrix = confusion_matrix(y_test, y_pred)\n",
    "\n",
    "precision = conf_matrix[1, 1] / (conf_matrix[1, 1] + conf_matrix[0, 1])\n",
    "recall = conf_matrix[1, 1] / (conf_matrix[1, 1] + conf_matrix[1, 0])\n",
    "f1_score = 2 * (precision * recall) / (precision + recall)\n",
    "\n",
    "print(\"Test Loss:\", loss)\n",
    "print(\"Test Accuracy:\", accuracy)\n",
    "print(\"\\nConfusion Matrix:\")\n",
    "print(conf_matrix)\n",
    "print(\"\\nPrecision:\", precision)\n",
    "print(\"Recall:\", recall)\n",
    "print(\"F1-score:\", f1_score)\n",
    "\n",
    "report = classification_report(y_test, y_pred, target_names=['class 0', 'class 1'])\n",
    "print(\"\\nClassification Report:\")\n",
    "print(report)"
   ]
  },
  {
   "cell_type": "markdown",
   "metadata": {
    "id": "9sRzrC9Gf2sk"
   },
   "source": [
    "Task B\n"
   ]
  },
  {
   "cell_type": "code",
   "execution_count": 27,
   "metadata": {
    "colab": {
     "background_save": true
    },
    "id": "GAb9dB0FlIzB",
    "outputId": "979f201b-cb1e-4ce8-d8cd-4a573c3943dd"
   },
   "outputs": [
    {
     "data": {
      "text/html": [
       "<div>\n",
       "<style scoped>\n",
       "    .dataframe tbody tr th:only-of-type {\n",
       "        vertical-align: middle;\n",
       "    }\n",
       "\n",
       "    .dataframe tbody tr th {\n",
       "        vertical-align: top;\n",
       "    }\n",
       "\n",
       "    .dataframe thead th {\n",
       "        text-align: right;\n",
       "    }\n",
       "</style>\n",
       "<table border=\"1\" class=\"dataframe\">\n",
       "  <thead>\n",
       "    <tr style=\"text-align: right;\">\n",
       "      <th></th>\n",
       "      <th>rewire_id</th>\n",
       "      <th>text</th>\n",
       "      <th>label_sexist</th>\n",
       "      <th>label_category</th>\n",
       "      <th>word_length</th>\n",
       "    </tr>\n",
       "  </thead>\n",
       "  <tbody>\n",
       "    <tr>\n",
       "      <th>0</th>\n",
       "      <td>sexism2022_english-7358</td>\n",
       "      <td>Damn, this writing was pretty chaotic</td>\n",
       "      <td>0</td>\n",
       "      <td>none</td>\n",
       "      <td>6</td>\n",
       "    </tr>\n",
       "    <tr>\n",
       "      <th>1</th>\n",
       "      <td>sexism2022_english-2367</td>\n",
       "      <td>Yeah, and apparently a bunch of misogynistic v...</td>\n",
       "      <td>0</td>\n",
       "      <td>none</td>\n",
       "      <td>18</td>\n",
       "    </tr>\n",
       "    <tr>\n",
       "      <th>2</th>\n",
       "      <td>sexism2022_english-3073</td>\n",
       "      <td>How the FUCK is this woman still an MP!!!???</td>\n",
       "      <td>0</td>\n",
       "      <td>none</td>\n",
       "      <td>9</td>\n",
       "    </tr>\n",
       "    <tr>\n",
       "      <th>3</th>\n",
       "      <td>sexism2022_english-14895</td>\n",
       "      <td>Understand. Know you're right. At same time I ...</td>\n",
       "      <td>0</td>\n",
       "      <td>none</td>\n",
       "      <td>25</td>\n",
       "    </tr>\n",
       "    <tr>\n",
       "      <th>4</th>\n",
       "      <td>sexism2022_english-4118</td>\n",
       "      <td>Surprized they didn't stop and rape some women</td>\n",
       "      <td>0</td>\n",
       "      <td>none</td>\n",
       "      <td>8</td>\n",
       "    </tr>\n",
       "  </tbody>\n",
       "</table>\n",
       "</div>"
      ],
      "text/plain": [
       "                  rewire_id  \\\n",
       "0   sexism2022_english-7358   \n",
       "1   sexism2022_english-2367   \n",
       "2   sexism2022_english-3073   \n",
       "3  sexism2022_english-14895   \n",
       "4   sexism2022_english-4118   \n",
       "\n",
       "                                                text  label_sexist  \\\n",
       "0              Damn, this writing was pretty chaotic             0   \n",
       "1  Yeah, and apparently a bunch of misogynistic v...             0   \n",
       "2       How the FUCK is this woman still an MP!!!???             0   \n",
       "3  Understand. Know you're right. At same time I ...             0   \n",
       "4     Surprized they didn't stop and rape some women             0   \n",
       "\n",
       "  label_category  word_length  \n",
       "0           none            6  \n",
       "1           none           18  \n",
       "2           none            9  \n",
       "3           none           25  \n",
       "4           none            8  "
      ]
     },
     "execution_count": 27,
     "metadata": {},
     "output_type": "execute_result"
    }
   ],
   "source": [
    "\n",
    "trainSet.head()"
   ]
  },
  {
   "cell_type": "code",
   "execution_count": 28,
   "metadata": {
    "colab": {
     "background_save": true
    },
    "id": "_8qCWlEUWeB6",
    "outputId": "5cf89cef-4c73-4f91-d221-0167eb69e216"
   },
   "outputs": [
    {
     "name": "stdout",
     "output_type": "stream",
     "text": [
      "[4 4 4 ... 4 4 4]\n",
      "Training data shape: (11200,) (11200,)\n",
      "Validation data shape: (1400,) (1400,)\n",
      "Test data shape: (1400,) (1400,)\n"
     ]
    }
   ],
   "source": [
    "from sklearn.preprocessing import LabelEncoder\n",
    "\n",
    "label_encoder_taskB = LabelEncoder()\n",
    "\n",
    "\n",
    "labels2 = label_encoder_taskB.fit_transform(trainSet['label_category'])\n",
    "print(labels2)\n",
    "\n",
    "y_train2, y_val_test2 = train_test_split(labels2, test_size=0.2, random_state=42)\n",
    "y_test2, y_val2 = train_test_split(y_val_test2, test_size=0.5, random_state=42)\n",
    "\n",
    "\n",
    "\n",
    "print(\"Training data shape:\", X_train.shape, y_train2.shape)\n",
    "print(\"Validation data shape:\", X_val.shape, y_val2.shape)\n",
    "print(\"Test data shape:\", X_test.shape, y_test2.shape)"
   ]
  },
  {
   "cell_type": "code",
   "execution_count": 29,
   "metadata": {
    "colab": {
     "background_save": true
    },
    "id": "cUI2hSD5BNkX",
    "outputId": "8fa948e7-8f6c-4cf1-f02f-05dbc5224058"
   },
   "outputs": [
    {
     "name": "stdout",
     "output_type": "stream",
     "text": [
      "Model: \"sequential_3\"\n",
      "_________________________________________________________________\n",
      " Layer (type)                Output Shape              Param #   \n",
      "=================================================================\n",
      " embedding_3 (Embedding)     (None, 100, 300)          6030000   \n",
      "                                                                 \n",
      " lstm_2 (LSTM)               (None, 128)               219648    \n",
      "                                                                 \n",
      " dropout_3 (Dropout)         (None, 128)               0         \n",
      "                                                                 \n",
      " dense_4 (Dense)             (None, 5)                 645       \n",
      "                                                                 \n",
      "=================================================================\n",
      "Total params: 6,250,293\n",
      "Trainable params: 6,250,293\n",
      "Non-trainable params: 0\n",
      "_________________________________________________________________\n"
     ]
    }
   ],
   "source": [
    "\n",
    "model5 = Sequential()\n",
    "model5.add(Embedding(len(word_index) + 1, 300, weights=[embedding_matrix], input_length=100, trainable=True))\n",
    "model5.add(LSTM(128))\n",
    "model5.add(Dropout(0.2))\n",
    "model5.add(Dense(5, activation='softmax'))\n",
    "model5.compile(loss='sparse_categorical_crossentropy', optimizer='adam', metrics=['accuracy'])\n",
    "model5.summary()"
   ]
  },
  {
   "cell_type": "code",
   "execution_count": 30,
   "metadata": {
    "colab": {
     "background_save": true
    },
    "id": "fLHoKzqXBNm2",
    "outputId": "0b59f1ad-237e-4399-ebfd-1b729673f784"
   },
   "outputs": [
    {
     "name": "stdout",
     "output_type": "stream",
     "text": [
      "Epoch 1/20\n",
      "350/350 [==============================] - 61s 162ms/step - loss: 0.8575 - accuracy: 0.7579 - val_loss: 0.8795 - val_accuracy: 0.7471\n",
      "Epoch 2/20\n",
      "350/350 [==============================] - 54s 153ms/step - loss: 0.8403 - accuracy: 0.7595 - val_loss: 0.8726 - val_accuracy: 0.7471\n",
      "Epoch 3/20\n",
      "350/350 [==============================] - 52s 148ms/step - loss: 0.8379 - accuracy: 0.7595 - val_loss: 0.8647 - val_accuracy: 0.7471\n",
      "Epoch 4/20\n",
      "350/350 [==============================] - 52s 150ms/step - loss: 0.8376 - accuracy: 0.7595 - val_loss: 0.8697 - val_accuracy: 0.7471\n",
      "Epoch 5/20\n",
      "350/350 [==============================] - 52s 148ms/step - loss: 0.8373 - accuracy: 0.7595 - val_loss: 0.8680 - val_accuracy: 0.7471\n",
      "Training Accuracy: 0.7595\n",
      "Testing Accuracy:  0.7500\n"
     ]
    },
    {
     "data": {
      "image/png": "[encoded data removed]",
      "text/plain": [
       "<Figure size 864x360 with 2 Axes>"
      ]
     },
     "metadata": {},
     "output_type": "display_data"
    }
   ],
   "source": [
    "# # Train the LSTM model\n",
    "history4 = model5.fit(data_padded_train, y_train2, epochs=20, validation_data=(data_padded_val, y_val2), callbacks=[early_stopping])\n",
    "\n",
    "loss5,accuracy5 = model5.evaluate(data_padded_train, y_train2, verbose = False)\n",
    "print(\"Training Accuracy: {:.4f}\".format(accuracy5))\n",
    "loss5,accuracy5 = model5.evaluate(data_padded_test, y_test2, verbose=False)\n",
    "print(\"Testing Accuracy:  {:.4f}\".format(accuracy5))\n",
    "\n",
    "\n",
    "plot_history(history4)"
   ]
  },
  {
   "cell_type": "code",
   "execution_count": 31,
   "metadata": {
    "colab": {
     "background_save": true
    },
    "id": "6IVFFfDIBNpi",
    "outputId": "2f94ecaa-0e4c-450d-e5cb-a4dbc0ee8c79"
   },
   "outputs": [
    {
     "name": "stdout",
     "output_type": "stream",
     "text": [
      "Model: \"sequential_4\"\n",
      "_________________________________________________________________\n",
      " Layer (type)                Output Shape              Param #   \n",
      "=================================================================\n",
      " embedding_4 (Embedding)     (None, 100, 300)          6030000   \n",
      "                                                                 \n",
      " bidirectional_1 (Bidirectio  (None, 256)              439296    \n",
      " nal)                                                            \n",
      "                                                                 \n",
      " dropout_4 (Dropout)         (None, 256)               0         \n",
      "                                                                 \n",
      " dense_5 (Dense)             (None, 5)                 1285      \n",
      "                                                                 \n",
      "=================================================================\n",
      "Total params: 6,470,581\n",
      "Trainable params: 6,470,581\n",
      "Non-trainable params: 0\n",
      "_________________________________________________________________\n"
     ]
    }
   ],
   "source": [
    "# Bidirectional LSTM model\n",
    "model6 = Sequential()\n",
    "model6.add(Embedding(len(word_index) + 1, 300, weights=[embedding_matrix], input_length=100, trainable=True))\n",
    "model6.add(Bidirectional(LSTM(128)))\n",
    "model6.add(Dropout(0.2))\n",
    "model6.add(Dense(5, activation='softmax'))\n",
    "model6.compile(loss='sparse_categorical_crossentropy', optimizer='adam', metrics=['accuracy'])\n",
    "model6.summary()"
   ]
  },
  {
   "cell_type": "code",
   "execution_count": 32,
   "metadata": {
    "colab": {
     "background_save": true
    },
    "id": "B8imAZm0BNsq"
   },
   "outputs": [
    {
     "name": "stdout",
     "output_type": "stream",
     "text": [
      "Epoch 1/20\n",
      "350/350 [==============================] - 95s 250ms/step - loss: 0.7677 - accuracy: 0.7671 - val_loss: 0.8041 - val_accuracy: 0.7707\n",
      "Epoch 2/20\n",
      "350/350 [==============================] - 87s 247ms/step - loss: 0.5952 - accuracy: 0.8025 - val_loss: 0.7017 - val_accuracy: 0.7807\n",
      "Epoch 3/20\n",
      "350/350 [==============================] - 85s 243ms/step - loss: 0.4850 - accuracy: 0.8328 - val_loss: 0.7035 - val_accuracy: 0.7621\n",
      "Epoch 4/20\n",
      "350/350 [==============================] - 86s 246ms/step - loss: 0.3712 - accuracy: 0.8702 - val_loss: 0.7698 - val_accuracy: 0.7671\n",
      "Training Accuracy: 0.8162\n",
      "Testing Accuracy:  0.7900\n"
     ]
    },
    {
     "data": {
      "image/png": "[encoded data removed]",
      "text/plain": [
       "<Figure size 864x360 with 2 Axes>"
      ]
     },
     "metadata": {},
     "output_type": "display_data"
    }
   ],
   "source": [
    "history5 = model6.fit(data_padded_train, y_train2, epochs=20, validation_data=(data_padded_val, y_val2), callbacks=[early_stopping])\n",
    "\n",
    "loss6,accuracy6 = model6.evaluate(data_padded_train, y_train2, verbose = False)\n",
    "print(\"Training Accuracy: {:.4f}\".format(accuracy6))\n",
    "loss6,accuracy6 = model6.evaluate(data_padded_test, y_test2, verbose=False)\n",
    "print(\"Testing Accuracy:  {:.4f}\".format(accuracy6))\n",
    "\n",
    "\n",
    "plot_history(history5)"
   ]
  },
  {
   "cell_type": "code",
   "execution_count": null,
   "metadata": {
    "colab": {
     "background_save": true
    },
    "id": "sbSTrIEkBN0D"
   },
   "outputs": [],
   "source": []
  }
 ],
 "metadata": {
  "colab": {
   "provenance": []
  },
  "kernelspec": {
   "display_name": "Python 3 (ipykernel)",
   "language": "python",
   "name": "python3"
  },
  "language_info": {
   "codemirror_mode": {
    "name": "ipython",
    "version": 3
   },
   "file_extension": ".py",
   "mimetype": "text/x-python",
   "name": "python",
   "nbconvert_exporter": "python",
   "pygments_lexer": "ipython3",
   "version": "3.9.12"
  }
 },
 "nbformat": 4,
 "nbformat_minor": 1
}
